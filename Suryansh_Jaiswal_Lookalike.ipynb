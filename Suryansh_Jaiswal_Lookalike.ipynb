{
  "nbformat": 4,
  "nbformat_minor": 0,
  "metadata": {
    "colab": {
      "provenance": []
    },
    "kernelspec": {
      "name": "python3",
      "display_name": "Python 3"
    },
    "language_info": {
      "name": "python"
    }
  },
  "cells": [
    {
      "cell_type": "code",
      "execution_count": 1,
      "metadata": {
        "id": "AxTblZggnH16"
      },
      "outputs": [],
      "source": [
        "import pandas as pd\n",
        "import numpy as np\n",
        "from sklearn.metrics.pairwise import cosine_similarity\n",
        "from sklearn.cluster import KMeans\n",
        "from sklearn.preprocessing import StandardScaler\n",
        "import matplotlib.pyplot as plt\n",
        "import seaborn as sns\n",
        "from sklearn.metrics import davies_bouldin_score"
      ]
    },
    {
      "cell_type": "code",
      "source": [
        "def load_data():\n",
        "\n",
        "    customers = pd.read_csv('/content/Customers.csv')\n",
        "    products = pd.read_csv('/content/Products.csv')\n",
        "    transactions = pd.read_csv('/content/Transactions.csv')\n",
        "\n",
        "    # Merge datasets\n",
        "    data = transactions.merge(customers, on='CustomerID', how='left').merge(products, on='ProductID', how='left')\n",
        "\n",
        "    # Rename columns for clarity\n",
        "    data.rename(columns={'Price_x': 'TransactionPrice', 'Price_y': 'ProductPrice'}, inplace=True)\n",
        "\n",
        "    return customers, products, transactions, data"
      ],
      "metadata": {
        "id": "Z_tjXjHEnX-T"
      },
      "execution_count": 2,
      "outputs": []
    },
    {
      "cell_type": "code",
      "source": [
        "def lookalike_model(customers, data):\n",
        "        # Replace 'Price' with 'TransactionPrice' or 'ProductPrice'\n",
        "    customer_profiles = data.groupby('CustomerID').agg({\n",
        "        'TotalValue': 'sum',\n",
        "        'Quantity': 'sum',\n",
        "        'ProductPrice': 'mean'  # Use 'ProductPrice' if referring to the product's price\n",
        "    }).reset_index()\n",
        "\n",
        "\n",
        "    # Normalize data\n",
        "    scaler = StandardScaler()\n",
        "    profile_matrix = scaler.fit_transform(customer_profiles[['TotalValue', 'Quantity', 'ProductPrice']])\n",
        "\n",
        "    # Compute similarity\n",
        "    similarity_matrix = cosine_similarity(profile_matrix)\n",
        "\n",
        "    # Find top 3 lookalikes for first 20 customers\n",
        "    lookalikes = {}\n",
        "    for idx in range(20):\n",
        "        similar_customers = np.argsort(-similarity_matrix[idx])[1:4]  # Skip self (first element)\n",
        "        scores = similarity_matrix[idx][similar_customers]\n",
        "        lookalikes[customer_profiles['CustomerID'][idx]] = list(zip(customer_profiles['CustomerID'][similar_customers], scores))\n",
        "\n",
        "    # Save results\n",
        "    lookalike_df = pd.DataFrame.from_dict(lookalikes, orient='index', columns=['Top1', 'Top2', 'Top3'])\n",
        "    lookalike_df.to_csv('Suryansh_Jaiswal_Lookalike.csv', index_label='CustomerID')\n",
        "    print(\"Lookalike model results saved to Lookalike.csv.\")"
      ],
      "metadata": {
        "id": "X1jccm5VnaMR"
      },
      "execution_count": 5,
      "outputs": []
    },
    {
      "cell_type": "code",
      "source": [
        "if __name__ == \"__main__\":\n",
        "    customers, products, transactions, data = load_data()\n",
        "    print(\"--- Building Lookalike Model ---\")\n",
        "    lookalike_model(customers, data)"
      ],
      "metadata": {
        "colab": {
          "base_uri": "https://localhost:8080/"
        },
        "id": "tJqz-0fCndSj",
        "outputId": "c32d2df9-1516-4f04-ce40-3585d04cd20f"
      },
      "execution_count": 6,
      "outputs": [
        {
          "output_type": "stream",
          "name": "stdout",
          "text": [
            "--- Building Lookalike Model ---\n",
            "Lookalike model results saved to Lookalike.csv.\n"
          ]
        }
      ]
    },
    {
      "cell_type": "code",
      "source": [],
      "metadata": {
        "id": "EEkcAlFXngoK"
      },
      "execution_count": null,
      "outputs": []
    }
  ]
}